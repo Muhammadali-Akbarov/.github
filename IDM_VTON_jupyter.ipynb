{
  "cells": [
    {
      "cell_type": "markdown",
      "metadata": {
        "id": "view-in-github",
        "colab_type": "text"
      },
      "source": [
        "<a href=\"https://colab.research.google.com/github/Muhammadali-Akbarov/.github/blob/main/IDM_VTON_jupyter.ipynb\" target=\"_parent\"><img src=\"https://colab.research.google.com/assets/colab-badge.svg\" alt=\"Open In Colab\"/></a>"
      ]
    },
    {
      "cell_type": "code",
      "execution_count": null,
      "metadata": {
        "id": "VjYy0F2gZIPR",
        "colab": {
          "base_uri": "https://localhost:8080/"
        },
        "outputId": "e8e56468-1487-4c00-c2a5-0aa3f17b33c5"
      },
      "outputs": [
        {
          "output_type": "stream",
          "name": "stdout",
          "text": [
            "/content\n",
            "fatal: destination path 'IDM-VTON-hf' already exists and is not an empty directory.\n",
            "/content/IDM-VTON-hf\n",
            "aria2 is already the newest version (1.36.0-1).\n",
            "0 upgraded, 0 newly installed, 0 to remove and 30 not upgraded.\n",
            "\n",
            "Download Results:\n",
            "gid   |stat|avg speed  |path/URI\n",
            "======+====+===========+=======================================================\n",
            "21a773|\u001b[1;32mOK\u001b[0m  |       0B/s|/content/IDM-VTON-hf/ckpt/densepose/model_final_162be9.pkl\n",
            "\n",
            "Status Legend:\n",
            "(OK):download completed.\n",
            "\n",
            "Download Results:\n",
            "gid   |stat|avg speed  |path/URI\n",
            "======+====+===========+=======================================================\n",
            "f17e36|\u001b[1;32mOK\u001b[0m  |       0B/s|/content/IDM-VTON-hf/ckpt/humanparsing/parsing_atr.onnx\n",
            "\n",
            "Status Legend:\n",
            "(OK):download completed.\n",
            "\n",
            "Download Results:\n",
            "gid   |stat|avg speed  |path/URI\n",
            "======+====+===========+=======================================================\n",
            "faf35c|\u001b[1;32mOK\u001b[0m  |       0B/s|/content/IDM-VTON-hf/ckpt/humanparsing/parsing_lip.onnx\n",
            "\n",
            "Status Legend:\n",
            "(OK):download completed.\n",
            "\n",
            "Download Results:\n",
            "gid   |stat|avg speed  |path/URI\n",
            "======+====+===========+=======================================================\n",
            "b7b529|\u001b[1;32mOK\u001b[0m  |       0B/s|/content/IDM-VTON-hf/ckpt/openpose/ckpts/body_pose_model.pth\n",
            "\n",
            "Status Legend:\n",
            "(OK):download completed.\n",
            "\u001b[33mWARNING: typer 0.15.2 does not provide the extra 'all'\u001b[0m\u001b[33m\n",
            "\u001b[0m/content/IDM-VTON-hf\n",
            "2025-04-10 04:05:34.401384: E external/local_xla/xla/stream_executor/cuda/cuda_fft.cc:477] Unable to register cuFFT factory: Attempting to register factory for plugin cuFFT when one has already been registered\n",
            "WARNING: All log messages before absl::InitializeLog() is called are written to STDERR\n",
            "E0000 00:00:1744257934.424549    3396 cuda_dnn.cc:8310] Unable to register cuDNN factory: Attempting to register factory for plugin cuDNN when one has already been registered\n",
            "E0000 00:00:1744257934.432031    3396 cuda_blas.cc:1418] Unable to register cuBLAS factory: Attempting to register factory for plugin cuBLAS when one has already been registered\n",
            "2025-04-10 04:05:34.455393: I tensorflow/core/platform/cpu_feature_guard.cc:210] This TensorFlow binary is optimized to use available CPU instructions in performance-critical operations.\n",
            "To enable the following instructions: AVX2 AVX512F FMA, in other operations, rebuild TensorFlow with the appropriate compiler flags.\n",
            "/usr/local/lib/python3.11/dist-packages/diffusers/utils/outputs.py:63: FutureWarning: `torch.utils._pytree._register_pytree_node` is deprecated. Please use `torch.utils._pytree.register_pytree_node` instead.\n",
            "  torch.utils._pytree._register_pytree_node(\n",
            "/usr/local/lib/python3.11/dist-packages/diffusers/utils/outputs.py:63: FutureWarning: `torch.utils._pytree._register_pytree_node` is deprecated. Please use `torch.utils._pytree.register_pytree_node` instead.\n",
            "  torch.utils._pytree._register_pytree_node(\n",
            "/usr/local/lib/python3.11/dist-packages/huggingface_hub/file_download.py:896: FutureWarning: `resume_download` is deprecated and will be removed in version 1.0.0. Downloads always resume when possible. If you want to force a new download, use `force_download=True`.\n",
            "  warnings.warn(\n",
            "config.json: 100% 1.99k/1.99k [00:00<00:00, 14.3MB/s]\n",
            "diffusion_pytorch_model.safetensors: 100% 5.98G/5.98G [02:07<00:00, 46.9MB/s]\n",
            "The config attributes {'decay': 0.9999, 'inv_gamma': 1.0, 'min_decay': 0.0, 'optimization_step': 37000, 'power': 0.6666666666666666, 'update_after_step': 0, 'use_ema_warmup': False} were passed to UNet2DConditionModel, but are not expected and will be ignored. Please verify your config.json configuration file.\n",
            "tokenizer_config.json: 100% 737/737 [00:00<00:00, 5.72MB/s]\n",
            "vocab.json: 100% 1.06M/1.06M [00:00<00:00, 6.44MB/s]\n",
            "merges.txt: 100% 525k/525k [00:00<00:00, 2.11MB/s]\n",
            "special_tokens_map.json: 100% 472/472 [00:00<00:00, 3.68MB/s]\n",
            "tokenizer_config.json: 100% 725/725 [00:00<00:00, 4.99MB/s]\n",
            "special_tokens_map.json: 100% 460/460 [00:00<00:00, 4.38MB/s]\n",
            "scheduler_config.json: 100% 504/504 [00:00<00:00, 4.32MB/s]\n",
            "config.json: 100% 605/605 [00:00<00:00, 5.81MB/s]\n",
            "model.safetensors: 100% 246M/246M [00:04<00:00, 57.0MB/s]\n",
            "config.json: 100% 615/615 [00:00<00:00, 5.57MB/s]\n",
            "model.safetensors:  75% 1.05G/1.39G [00:22<00:07, 45.9MB/s]"
          ]
        }
      ],
      "source": [
        "%cd /content\n",
        "!git clone -b dev https://github.com/camenduru/IDM-VTON-hf\n",
        "%cd /content/IDM-VTON-hf\n",
        "\n",
        "!apt -y install -qq aria2\n",
        "!aria2c --console-log-level=error -c -x 16 -s 16 -k 1M https://huggingface.co/camenduru/IDM-VTON/resolve/main/densepose/model_final_162be9.pkl -d /content/IDM-VTON-hf/ckpt/densepose -o model_final_162be9.pkl\n",
        "!aria2c --console-log-level=error -c -x 16 -s 16 -k 1M https://huggingface.co/camenduru/IDM-VTON/resolve/main/humanparsing/parsing_atr.onnx -d /content/IDM-VTON-hf/ckpt/humanparsing -o parsing_atr.onnx\n",
        "!aria2c --console-log-level=error -c -x 16 -s 16 -k 1M https://huggingface.co/camenduru/IDM-VTON/resolve/main/humanparsing/parsing_lip.onnx -d /content/IDM-VTON-hf/ckpt/humanparsing -o parsing_lip.onnx\n",
        "!aria2c --console-log-level=error -c -x 16 -s 16 -k 1M https://huggingface.co/camenduru/IDM-VTON/resolve/main/openpose/ckpts/body_pose_model.pth -d /content/IDM-VTON-hf/ckpt/openpose/ckpts -o body_pose_model.pth\n",
        "\n",
        "!pip install -q diffusers==0.25.0 accelerate==0.26.1 einops==0.7.0 onnxruntime==1.16.2 cloudpickle omegaconf gradio==4.24.0 fvcore av config\n",
        "\n",
        "%cd /content/IDM-VTON-hf\n",
        "!python app.py"
      ]
    },
    {
      "cell_type": "code",
      "source": [],
      "metadata": {
        "id": "Qr4j-JGV3SW0"
      },
      "execution_count": null,
      "outputs": []
    },
    {
      "cell_type": "code",
      "source": [
        "# prompt: I removed cached_download from the import line in the file /easy-diffusion/installer_files/env/lib/python3.8/site-packages/diffusers/utils/dynamic_modules_utils.py\n",
        "# That fixed it for me\n",
        "\n",
        "%cd /content\n",
        "!git clone -b dev https://github.com/camenduru/IDM-VTON-hf\n",
        "%cd /content/IDM-VTON-hf\n",
        "\n",
        "!apt -y install -qq aria2\n",
        "!aria2c --console-log-level=error -c -x 16 -s 16 -k 1M https://huggingface.co/camenduru/IDM-VTON/resolve/main/densepose/model_final_162be9.pkl -d /content/IDM-VTON-hf/ckpt/densepose -o model_final_162be9.pkl\n",
        "!aria2c --console-log-level=error -c -x 16 -s 16 -k 1M https://huggingface.co/camenduru/IDM-VTON/resolve/main/humanparsing/parsing_atr.onnx -d /content/IDM-VTON-hf/ckpt/humanparsing -o parsing_atr.onnx\n",
        "!aria2c --console-log-level=error -c -x 16 -s 16 -k 1M https://huggingface.co/camenduru/IDM-VTON/resolve/main/humanparsing/parsing_lip.onnx -d /content/IDM-VTON-hf/ckpt/humanparsing -o parsing_lip.onnx\n",
        "!aria2c --console-log-level=error -c -x 16 -s 16 -k 1M https://huggingface.co/camenduru/IDM-VTON/resolve/main/openpose/ckpts/body_pose_model.pth -d /content/IDM-VTON-hf/ckpt/openpose/ckpts -o body_pose_model.pth\n",
        "\n",
        "!pip install -q diffusers==0.25.0 accelerate==0.26.1 einops==0.7.0 onnxruntime==1.16.2 cloudpickle omegaconf gradio==4.24.0 fvcore av config\n",
        "\n",
        "# Edit the dynamic_modules_utils.py file to remove cached_download from the import line\n",
        "!sed -i 's/from .cached_download import cached_download//' /content/IDM-VTON-hf/env/lib/python3.8/site-packages/diffusers/utils/dynamic_modules_utils.py\n",
        "\n",
        "%cd /content/IDM-VTON-hf\n",
        "!python app.py\n"
      ],
      "metadata": {
        "colab": {
          "base_uri": "https://localhost:8080/"
        },
        "id": "1trk1X2m2UrT",
        "outputId": "bb54763d-4926-4ff7-9d1e-2ac52c9099be"
      },
      "execution_count": 2,
      "outputs": [
        {
          "output_type": "stream",
          "name": "stdout",
          "text": [
            "/content\n",
            "fatal: destination path 'IDM-VTON-hf' already exists and is not an empty directory.\n",
            "/content/IDM-VTON-hf\n",
            "aria2 is already the newest version (1.36.0-1).\n",
            "0 upgraded, 0 newly installed, 0 to remove and 30 not upgraded.\n",
            "\n",
            "Download Results:\n",
            "gid   |stat|avg speed  |path/URI\n",
            "======+====+===========+=======================================================\n",
            "957d8f|\u001b[1;32mOK\u001b[0m  |       0B/s|/content/IDM-VTON-hf/ckpt/densepose/model_final_162be9.pkl\n",
            "\n",
            "Status Legend:\n",
            "(OK):download completed.\n",
            "\n",
            "Download Results:\n",
            "gid   |stat|avg speed  |path/URI\n",
            "======+====+===========+=======================================================\n",
            "5d4d76|\u001b[1;32mOK\u001b[0m  |       0B/s|/content/IDM-VTON-hf/ckpt/humanparsing/parsing_atr.onnx\n",
            "\n",
            "Status Legend:\n",
            "(OK):download completed.\n",
            "\n",
            "Download Results:\n",
            "gid   |stat|avg speed  |path/URI\n",
            "======+====+===========+=======================================================\n",
            "5c7a42|\u001b[1;32mOK\u001b[0m  |       0B/s|/content/IDM-VTON-hf/ckpt/humanparsing/parsing_lip.onnx\n",
            "\n",
            "Status Legend:\n",
            "(OK):download completed.\n",
            "\n",
            "Download Results:\n",
            "gid   |stat|avg speed  |path/URI\n",
            "======+====+===========+=======================================================\n",
            "db19d6|\u001b[1;32mOK\u001b[0m  |       0B/s|/content/IDM-VTON-hf/ckpt/openpose/ckpts/body_pose_model.pth\n",
            "\n",
            "Status Legend:\n",
            "(OK):download completed.\n",
            "\u001b[33mWARNING: typer 0.15.2 does not provide the extra 'all'\u001b[0m\u001b[33m\n",
            "\u001b[0msed: can't read /content/IDM-VTON-hf/env/lib/python3.8/site-packages/diffusers/utils/dynamic_modules_utils.py: No such file or directory\n",
            "/content/IDM-VTON-hf\n",
            "2025-04-10 03:59:22.380075: E external/local_xla/xla/stream_executor/cuda/cuda_fft.cc:477] Unable to register cuFFT factory: Attempting to register factory for plugin cuFFT when one has already been registered\n",
            "WARNING: All log messages before absl::InitializeLog() is called are written to STDERR\n",
            "E0000 00:00:1744257562.401158    1746 cuda_dnn.cc:8310] Unable to register cuDNN factory: Attempting to register factory for plugin cuDNN when one has already been registered\n",
            "E0000 00:00:1744257562.407682    1746 cuda_blas.cc:1418] Unable to register cuBLAS factory: Attempting to register factory for plugin cuBLAS when one has already been registered\n",
            "2025-04-10 03:59:22.429550: I tensorflow/core/platform/cpu_feature_guard.cc:210] This TensorFlow binary is optimized to use available CPU instructions in performance-critical operations.\n",
            "To enable the following instructions: AVX2 AVX512F FMA, in other operations, rebuild TensorFlow with the appropriate compiler flags.\n",
            "Traceback (most recent call last):\n",
            "  File \"/content/IDM-VTON-hf/app.py\", line 3, in <module>\n",
            "    from src.tryon_pipeline import StableDiffusionXLInpaintPipeline as TryonPipeline\n",
            "  File \"/content/IDM-VTON-hf/src/tryon_pipeline.py\", line 29, in <module>\n",
            "    from diffusers.image_processor import PipelineImageInput, VaeImageProcessor\n",
            "  File \"/usr/local/lib/python3.11/dist-packages/diffusers/__init__.py\", line 5, in <module>\n",
            "    from .utils import (\n",
            "  File \"/usr/local/lib/python3.11/dist-packages/diffusers/utils/__init__.py\", line 37, in <module>\n",
            "    from .dynamic_modules_utils import get_class_from_dynamic_module\n",
            "  File \"/usr/local/lib/python3.11/dist-packages/diffusers/utils/dynamic_modules_utils.py\", line 28, in <module>\n",
            "    from huggingface_hub import cached_download, hf_hub_download, model_info\n",
            "ImportError: cannot import name 'cached_download' from 'huggingface_hub' (/usr/local/lib/python3.11/dist-packages/huggingface_hub/__init__.py)\n"
          ]
        }
      ]
    },
    {
      "cell_type": "code",
      "source": [
        "ceback (most recent call last):\n",
        "  File \"/content/IDM-VTON-hf/app.py\", line 3, in <module>\n",
        "    from src.tryon_pipeline import StableDiffusionXLInpaintPipeline as TryonPipeline\n",
        "  File \"/content/IDM-VTON-hf/src/tryon_pipeline.py\", line 29, in <module>\n",
        "    from diffusers.image_processor import PipelineImageInput, VaeImageProcessor\n",
        "  File \"/usr/local/lib/python3.11/dist-packages/diffusers/__init__.py\", line 5, in <module>\n",
        "    from .utils import (\n",
        "  File \"/usr/local/lib/python3.11/dist-packages/diffusers/utils/__init__.py\", line 37, in <module>\n",
        "    from .dynamic_modules_utils import get_class_from_dynamic_module\n",
        "  File \"/usr/local/lib/python3.11/dist-packages/diffusers/utils/dynamic_modules_utils.py\", line 28, in <module>\n",
        "    from huggingface_hub import cached_download, hf_hub_download, model_info\n",
        "ImportError: cannot import name 'cached_download' from 'huggingface_hub' (/usr/local/lib/python3.11/dist-packages/huggingface_hub/__init__.py)"
      ],
      "metadata": {
        "colab": {
          "base_uri": "https://localhost:8080/",
          "height": 105
        },
        "id": "DRXq1BFt2nPv",
        "outputId": "0e8baffa-e3bd-44d5-e768-ae7e5533481b"
      },
      "execution_count": 5,
      "outputs": [
        {
          "output_type": "error",
          "ename": "SyntaxError",
          "evalue": "invalid syntax. Perhaps you forgot a comma? (<ipython-input-5-b2767dc86ad7>, line 1)",
          "traceback": [
            "\u001b[0;36m  File \u001b[0;32m\"<ipython-input-5-b2767dc86ad7>\"\u001b[0;36m, line \u001b[0;32m1\u001b[0m\n\u001b[0;31m    ceback (most recent call last):\u001b[0m\n\u001b[0m            ^\u001b[0m\n\u001b[0;31mSyntaxError\u001b[0m\u001b[0;31m:\u001b[0m invalid syntax. Perhaps you forgot a comma?\n"
          ]
        }
      ]
    },
    {
      "cell_type": "code",
      "source": [],
      "metadata": {
        "id": "_Ly_Q4Jf3UOh"
      },
      "execution_count": null,
      "outputs": []
    }
  ],
  "metadata": {
    "accelerator": "GPU",
    "colab": {
      "gpuType": "T4",
      "provenance": [],
      "include_colab_link": true
    },
    "kernelspec": {
      "display_name": "Python 3",
      "name": "python3"
    },
    "language_info": {
      "name": "python"
    }
  },
  "nbformat": 4,
  "nbformat_minor": 0
}